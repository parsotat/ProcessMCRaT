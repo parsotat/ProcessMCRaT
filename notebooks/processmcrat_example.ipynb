{
 "cells": [
  {
   "cell_type": "markdown",
   "metadata": {},
   "source": [
    "# Welcome to the ProcessMCRaT Example Notebook\n"
   ]
  },
  {
   "cell_type": "markdown",
   "metadata": {},
   "source": [
    "### This notebook will walk through some of the ways that the ProcessMCRaT library can be used to process the output of a [MCRaT](https://github.com/lazzati-astro/MCRaT) simulation and conviently get and plot results quickly."
   ]
  },
  {
   "cell_type": "markdown",
   "metadata": {},
   "source": [
    "This notebook can be run interactively on your local machine if you:\n",
    "1. Install Git LFS, which is necessary to download the mcdata file from the repo that is needed for the below examples. The website to do this is [https://git-lfs.github.com/](https://git-lfs.github.com/) and the setup is very simple.\n",
    "2. Clone the git repository with \n",
    "```\n",
    "git clone https://github.com/parsotat/ProcessMCRaT.git\n",
    "```\n",
    "3. After, the notebook can be accessed by navigating to the `notebook/` directory and running \n",
    "```\n",
    "jupyter notebook\n",
    "```\n",
    "in the command line."
   ]
  },
  {
   "cell_type": "markdown",
   "metadata": {},
   "source": [
    "Alternatively, this notebook can be run remotely and interactively by opening it in Binder at the link: [https://mybinder.org/v2/gh/parsotat/ProcessMCRaT/HEAD?filepath=notebooks%2Fprocessmcrat_example.ipynb](https://mybinder.org/v2/gh/parsotat/ProcessMCRaT/HEAD?filepath=notebooks%2Fprocessmcrat_example.ipynb)"
   ]
  },
  {
   "cell_type": "markdown",
   "metadata": {},
   "source": [
    "In either case the steps below will help you get an understanding of how to setup and use the ProcessMCRaT python package."
   ]
  },
  {
   "cell_type": "markdown",
   "metadata": {},
   "source": [
    "### 1. First we need to install the package which can be done using *pip*"
   ]
  },
  {
   "cell_type": "markdown",
   "metadata": {},
   "source": [
    "In the command line you would run `pip install processmcrat` or from a jupyter notebook you would run the line below:"
   ]
  },
  {
   "cell_type": "code",
   "execution_count": 1,
   "metadata": {
    "scrolled": true
   },
   "outputs": [
    {
     "name": "stdout",
     "output_type": "stream",
     "text": [
      "Requirement already satisfied: processmcrat in /opt/anaconda3/lib/python3.7/site-packages (0.3.1)\n",
      "Requirement already satisfied: numpy>=1.20.2 in /Users/Tylerparsotan/.local/lib/python3.7/site-packages (from processmcrat) (1.20.2)\n",
      "Requirement already satisfied: tables>=3.6.1 in /Users/Tylerparsotan/.local/lib/python3.7/site-packages (from processmcrat) (3.6.1)\n",
      "Requirement already satisfied: cycler>=0.10.0 in /Users/Tylerparsotan/.local/lib/python3.7/site-packages (from processmcrat) (0.10.0)\n",
      "Requirement already satisfied: numexpr>=2.7.3 in /Users/Tylerparsotan/.local/lib/python3.7/site-packages (from processmcrat) (2.7.3)\n",
      "Requirement already satisfied: astropy>=4.2.1 in /Users/Tylerparsotan/.local/lib/python3.7/site-packages/astropy-4.2.1-py3.7-macosx-10.9-x86_64.egg (from processmcrat) (4.2.1)\n",
      "Requirement already satisfied: Pillow>=8.2.0 in /Users/Tylerparsotan/.local/lib/python3.7/site-packages (from processmcrat) (8.2.0)\n",
      "Requirement already satisfied: cached-property>=1.5.2 in /Users/Tylerparsotan/.local/lib/python3.7/site-packages (from processmcrat) (1.5.2)\n",
      "Requirement already satisfied: matplotlib>=3.4.1 in /Users/Tylerparsotan/.local/lib/python3.7/site-packages (from processmcrat) (3.4.1)\n",
      "Requirement already satisfied: python-dateutil>=2.8.1 in /Users/Tylerparsotan/.local/lib/python3.7/site-packages (from processmcrat) (2.8.1)\n",
      "Requirement already satisfied: certifi>=2020.12.5 in /opt/anaconda3/lib/python3.7/site-packages (from processmcrat) (2020.12.5)\n",
      "Requirement already satisfied: six>=1.15.0 in /Users/Tylerparsotan/.local/lib/python3.7/site-packages (from processmcrat) (1.15.0)\n",
      "Requirement already satisfied: kiwisolver>=1.3.1 in /Users/Tylerparsotan/.local/lib/python3.7/site-packages (from processmcrat) (1.3.1)\n",
      "Requirement already satisfied: scipy>=1.6.2 in /Users/Tylerparsotan/.local/lib/python3.7/site-packages (from processmcrat) (1.6.2)\n",
      "Requirement already satisfied: pyerfa>=1.7.3 in /Users/Tylerparsotan/.local/lib/python3.7/site-packages/pyerfa-1.7.3-py3.7-macosx-10.9-x86_64.egg (from processmcrat) (1.7.3)\n",
      "Requirement already satisfied: pyparsing>=2.4.7 in /Users/Tylerparsotan/.local/lib/python3.7/site-packages (from processmcrat) (2.4.7)\n",
      "Requirement already satisfied: h5py>=3.2.1 in /Users/Tylerparsotan/.local/lib/python3.7/site-packages (from processmcrat) (3.2.1)\n"
     ]
    }
   ],
   "source": [
    "!pip install processmcrat"
   ]
  },
  {
   "cell_type": "markdown",
   "metadata": {},
   "source": [
    "### 2. With the package now installed on your local machine or in the Binder environment we can now import the package alongside other packages that we will need to analyze a given MCRaT simulation"
   ]
  },
  {
   "cell_type": "code",
   "execution_count": 2,
   "metadata": {
    "scrolled": true
   },
   "outputs": [
    {
     "data": {
      "text/plain": [
       "<matplotlib.pyplot._IonContext at 0x7fd5202bc950>"
      ]
     },
     "execution_count": 2,
     "metadata": {},
     "output_type": "execute_result"
    }
   ],
   "source": [
    "import processmcrat as pm\n",
    "import astropy.units as unit\n",
    "from astropy import constants as const\n",
    "import matplotlib.pyplot as plt\n",
    "%matplotlib inline\n",
    "import numpy as np\n",
    "plt.ion() #this allows matplotlib plots to show without explicit calls to plt.show"
   ]
  },
  {
   "cell_type": "markdown",
   "metadata": {},
   "source": [
    "### 3. Now that we have loaded everything, we need a MCRaT simulation file to analyze. I have placed one such file in this directory from the variable *40sp_down* simulation that includes polarization and cyclo-synchrotron emission and absorption. The simulation file correponds to the last frame of the hydrodynamic simulation and we will produce mock observations from it."
   ]
  },
  {
   "cell_type": "code",
   "execution_count": null,
   "metadata": {},
   "outputs": [],
   "source": [
    "#here we will fownload the mcdata file needed for this example if you have not done the git lfs process or if you are \n",
    "#on Binder running the notebook\n",
    "import gdown\n",
    "url = 'https://drive.google.com/uc?id=12ZtMIMeLKp03Uiohfze52UBwmVJmoje0'\n",
    "output = 'mcdata_1999.h5'\n",
    "gdown.download(url, output, quiet=False)"
   ]
  },
  {
   "cell_type": "markdown",
   "metadata": {},
   "source": [
    "We first need to create a MCRaT simulation load object that will hold all the information in the mcdata file. We pass the location of the directory that holds the simulation's mcdata files. If we dont pass any file directory then the library assumes that the mcdata file(s) are in the current working directory."
   ]
  },
  {
   "cell_type": "code",
   "execution_count": 3,
   "metadata": {
    "scrolled": true
   },
   "outputs": [],
   "source": [
    "mcrat_sim=pm.McratSimLoad() "
   ]
  },
  {
   "cell_type": "markdown",
   "metadata": {},
   "source": [
    "if the mcdata files are located in `/Volume/dir/to/mcrat/sim`, we would instead do `pm.McratSimLoad('/Volume/dir/to/mcrat/sim')`  "
   ]
  },
  {
   "cell_type": "markdown",
   "metadata": {},
   "source": [
    "Now we need to specify which frame we want to load and whether we want to load any other optional data such as stokes parameters, comoving four momenta, or the photon type. For our example analysis, the last frame of the hydro simulation is frame 1999 which is the last frame of the MCRaT simulation as well. Additionally, we only want to load in the stokes parameters to calculate polarizations later on. By leaving out the `read_comv` and `read_type` keywords, they are assumed to be `False`. We will see that by setting `read_stokes=True` the output of the functions that create mock observations will automatically include polarization calculations."
   ]
  },
  {
   "cell_type": "code",
   "execution_count": 4,
   "metadata": {
    "scrolled": true
   },
   "outputs": [],
   "source": [
    "mcrat_sim.load_frame(1999, read_stokes=True)"
   ]
  },
  {
   "cell_type": "markdown",
   "metadata": {},
   "source": [
    "The `mcrat_sim` object now holds all the information for all the MCRaT photons and various quantities can be accessed of desired. We can get one of the following quantities: \n",
    "* lab frame 4 momenta (*p0, p1, p2, p3*), \n",
    "* location of each photon in cartesian coordinates of x,y, and z (*r0, r1, r2*), \n",
    "* weights (*weight*), \n",
    "* number of scatterings experienced by each photon (*scatterings*), \n",
    "* location of the photon in the original hdf5 mcdata file (*file_index*)\n",
    "* comoving fluid frame 4 momenta if loaded (*comv_p0, comv_p1, comv_p2, comv_p3*),\n",
    "* photon type if loaded (*photon_type*)\n",
    "* and the stokes parameters if loaded (*s0, s1, s2, s3*)\n",
    "\n",
    "The quantities are accessed from the `mcrat_sim` object as `mcrat_sim.loaded_photons.x`, where x is any of the italicised identifiers listed above. For example, if we want to see the photon energies we can do:"
   ]
  },
  {
   "cell_type": "code",
   "execution_count": 5,
   "metadata": {
    "scrolled": true
   },
   "outputs": [
    {
     "data": {
      "text/plain": [
       "array([5.27059383e-08, 1.26476577e-08, 6.22665414e-09, ...,\n",
       "       2.00832919e-12, 2.74379951e-12, 6.48917431e-13])"
      ]
     },
     "execution_count": 5,
     "metadata": {},
     "output_type": "execute_result"
    }
   ],
   "source": [
    "mcrat_sim.loaded_photons.p0*(const.c.cgs.value)"
   ]
  },
  {
   "cell_type": "markdown",
   "metadata": {},
   "source": [
    "Here we see that the loaded photons' 4-momenta are normalized by c, the speed of light in cgs units, which is how they are stored in the MCRaT simulations. We can get thier energies in erg simply by multiplying by c.\n",
    "\n",
    "Since the energies are something that is typically analyzed, the `mcrat_sim.loaded_photons`, which is an instance of the PhotonList class, has a method associated with it that allows us to quickly calculate the energies of the photons. It can be called as:"
   ]
  },
  {
   "cell_type": "code",
   "execution_count": 6,
   "metadata": {
    "scrolled": true
   },
   "outputs": [
    {
     "data": {
      "text/plain": [
       "array([3.28964592e+01, 7.89404701e+00, 3.88637183e+00, ...,\n",
       "       1.25350049e-03, 1.71254496e-03, 4.05022403e-04])"
      ]
     },
     "execution_count": 6,
     "metadata": {},
     "output_type": "execute_result"
    }
   ],
   "source": [
    "mcrat_sim.loaded_photons.get_energies() #for comoving energies of the photons, the function is: get_comv_energies()"
   ]
  },
  {
   "cell_type": "markdown",
   "metadata": {},
   "source": [
    "By default, the energy is calculated in units of keV, but by passing an applicable astropy unit to the function, the energy will be appropriately calculated. For example, to calculate the units in ergs, we do"
   ]
  },
  {
   "cell_type": "code",
   "execution_count": 7,
   "metadata": {
    "scrolled": true
   },
   "outputs": [
    {
     "data": {
      "text/plain": [
       "array([5.27059383e-08, 1.26476577e-08, 6.22665414e-09, ...,\n",
       "       2.00832919e-12, 2.74379951e-12, 6.48917431e-13])"
      ]
     },
     "execution_count": 7,
     "metadata": {},
     "output_type": "execute_result"
    }
   ],
   "source": [
    "mcrat_sim.loaded_photons.get_energies(unit=unit.erg)"
   ]
  },
  {
   "cell_type": "markdown",
   "metadata": {},
   "source": [
    "If we want a wavelength, we can also do that."
   ]
  },
  {
   "cell_type": "code",
   "execution_count": 8,
   "metadata": {
    "scrolled": true
   },
   "outputs": [
    {
     "data": {
      "text/plain": [
       "array([1.04697493e-15, 2.51238872e-16, 1.23689113e-16, ...,\n",
       "       3.98943720e-20, 5.45040918e-20, 1.28903934e-20])"
      ]
     },
     "execution_count": 8,
     "metadata": {},
     "output_type": "execute_result"
    }
   ],
   "source": [
    "mcrat_sim.loaded_photons.get_energies(unit=unit.angstrom)"
   ]
  },
  {
   "cell_type": "markdown",
   "metadata": {},
   "source": [
    "#### An aside about units\n",
    "\n",
    "This brings us to an important aside about units used in ProcessMCRaT. The package assigns appropriate astropy units to various quantities to make sure that various calculations are done consistently. It is beneficial for the user to read some of the excellent documentation that the astropy collaboration has on their implementation of units as it will help aid in understanding the ProcessMCRaT library. This documentation can be found at [https://docs.astropy.org/en/stable/units/](https://docs.astropy.org/en/stable/units/)"
   ]
  },
  {
   "cell_type": "markdown",
   "metadata": {},
   "source": [
    "### 4. Conduct a Mock Observation\n",
    "With a basic understanding of the McratSimLoad object and its use in loading in simulation data, we can create a mock observation with the photons. To do that we create a MockObservation object. This object, holds all the data for:\n",
    "* where an observer is located with respect to the jet axis, $\\theta_\\mathrm{v}$, \n",
    "* the acceptance angle of the observer $\\Delta \\theta$, meaning that photons that are moving towards the observer in the range [$\\theta_\\mathrm{v}-0.5\\Delta \\theta, \\theta_\\mathrm{v}+0.5\\Delta \\theta$) are considered to be detected\n",
    "* the location of the observer, $r_\\mathrm{d}$, \n",
    "* the number of frames per second in the hydrodynamic simulation that was analyzed, $\\mathrm{fps}$,\n",
    "* the number of dimensions of the hydrodynamic simulation, and\n",
    "* all of the data for photons detected by the observer at $\\theta_\\mathrm{v}$\n",
    "\n",
    "For the *40sp_down* simulation, we would make a mock observation as:"
   ]
  },
  {
   "cell_type": "code",
   "execution_count": 9,
   "metadata": {
    "scrolled": true
   },
   "outputs": [],
   "source": [
    "observation=pm.MockObservation(1, 1, 1e13, 10, mcratsimload_obj=mcrat_sim)"
   ]
  },
  {
   "cell_type": "markdown",
   "metadata": {},
   "source": [
    "where the first variable passed to the observation function is $\\theta_\\mathrm{v}$ in degrees, the second is $\\Delta \\theta$ in degrees, the third is $r_\\mathrm{d}$ in cm, the fourth is fps. The last argument is the McratSimLoad object that contains all the loaded photons' data. We did not specify the number of dimensions in the call because the default is set to 2D. If the hydro simulation was in 3D, which will be supported in the future, you would have `hydrosim_dim=3` keyword as one of the arguments. \n",
    "\n",
    "The mock observation function call calculates which photons are moving towards the observer in the angle range specified previously. For these detected photons, their detection time, $t_d$, is calculated as:\n",
    "$t_d=t_\\mathrm{real} + t_p - t_j$, where $t_\\mathrm{real}$ is the lab frame time of the hydrodynamic frame that has been loaded, $t_j$ is the jet detection time which is calculated by considering a virtual photon propagating to $r_\\mathrm{d}$ at the time that the jet is initially launched. Finally, $t_p$ is the time that it will take photons to propagate towards $r_\\mathrm{d}$ from their location in the loaded MCRaT frame.\n",
    "\n",
    "Like the McratSimLoad object that we were exploring earlier, the MockObservation object that we created contains all the information for the detected photons. We can get all the same photon data as before with the addition of each photons' detection time. To access this data we would do:"
   ]
  },
  {
   "cell_type": "code",
   "execution_count": 10,
   "metadata": {
    "scrolled": false
   },
   "outputs": [
    {
     "data": {
      "text/plain": [
       "array([1.10302427e-18, 1.17673392e-18, 6.61093762e-19, ...,\n",
       "       5.72090955e-22, 3.51041574e-22, 1.38124376e-22])"
      ]
     },
     "execution_count": 10,
     "metadata": {},
     "output_type": "execute_result"
    }
   ],
   "source": [
    "observation.detected_photons.p0"
   ]
  },
  {
   "cell_type": "code",
   "execution_count": 11,
   "metadata": {
    "scrolled": true
   },
   "outputs": [
    {
     "data": {
      "text/plain": [
       "array([11.70556666, 11.75620169, 11.68942642, ..., 39.33796243,\n",
       "       39.32549413, 39.44886216])"
      ]
     },
     "execution_count": 11,
     "metadata": {},
     "output_type": "execute_result"
    }
   ],
   "source": [
    "observation.detected_photons.detection_time"
   ]
  },
  {
   "cell_type": "markdown",
   "metadata": {},
   "source": [
    "In order to easily save our observations, we can create event files. These event files only contain information about the detected photons at the user specified $\\theta_\\mathrm{v}$ which allow them to be smaller than the MCRaT mcdata files that can be very large and difficult to send to collaborators, for example. These files can be loaded as an observation object, allowing for continued analysis of the data. \n",
    "\n",
    "In order to create an event file, we can do:"
   ]
  },
  {
   "cell_type": "code",
   "execution_count": 12,
   "metadata": {
    "scrolled": true
   },
   "outputs": [],
   "source": [
    "observation.save_event_file('40sp_down')"
   ]
  },
  {
   "cell_type": "code",
   "execution_count": 17,
   "metadata": {
    "scrolled": true
   },
   "outputs": [
    {
     "name": "stdout",
     "output_type": "stream",
     "text": [
      "mcdata_1999.h5             processmcrat_example.ipynb\r\n"
     ]
    }
   ],
   "source": [
    "!ls"
   ]
  },
  {
   "cell_type": "markdown",
   "metadata": {},
   "source": [
    "We can see that the event file has been created. It is a text file with the .evt extension. The file name contains the identifier that we passed to the `save_event_file` function followed by $r_\\mathrm{d}$ and $\\theta_\\mathrm{v}$ for the observation. If we wanted the event file to be saved elsewhere, then we can also specify the directory using the `save_directory` optional keyword. For example, to save the file in your downloads folder you would do `observation.save_event_file('40sp_down', save_directory='~/Downloads/')`.\n",
    "\n",
    "Using the event file, you or a collaborator can load it to create the same observation object that we created above from the McratLoadSim object. Instead of running `observation=pm.MockObservation(1, 1, 1e13, 10, mcratsimload_obj=mcrat_sim)` we would do:\n",
    "```\n",
    "observation=pm.MockObservation(1, 1, 1e13, 10, id='40sp_down', directory='path/to/dir/with/eventfile/')\n",
    "```\n",
    "where we still provide the same inputs related to the observer and the hydrosimulation, but we specify the id of the observation and the directory that the event file exists in. If the event file is in the current working directory, the directory keyword can be left out."
   ]
  },
  {
   "cell_type": "code",
   "execution_count": null,
   "metadata": {
    "scrolled": true
   },
   "outputs": [],
   "source": [
    "!rm 40sp_down_1.00e+13_1.evt #since we wont be using this file in this notebook we will remove it"
   ]
  },
  {
   "cell_type": "markdown",
   "metadata": {},
   "source": [
    "### 5. Create Mock Observables\n",
    "Once we have conducted our mock observation we can create mock observables. These include producing light curves, spectra, and polarizations. We use the observation object directly to acquire these observables.\n",
    "\n",
    "#### Calculating Spectra\n",
    "In order to calculate time integrated spectra, from t=0 to t=45 s for our mock observed GRB, we simply do:"
   ]
  },
  {
   "cell_type": "code",
   "execution_count": 19,
   "metadata": {
    "scrolled": true
   },
   "outputs": [],
   "source": [
    "spectrum_dict=observation.spectrum(0, 45)"
   ]
  },
  {
   "cell_type": "markdown",
   "metadata": {},
   "source": [
    "This returns a dictionary object that contains all of the information in the spectrum. We can see what information there is by running:"
   ]
  },
  {
   "cell_type": "code",
   "execution_count": 21,
   "metadata": {
    "scrolled": true
   },
   "outputs": [
    {
     "data": {
      "text/plain": [
       "dict_keys(['spectrum', 'spectrum_errors', 'ph_num', 'num_scatt', 'energy_bin_center', 'theta_observer', 'pol_deg', 'stokes_i', 'stokes_q', 'stokes_u', 'stokes_v', 'pol_angle', 'pol_deg_errors', 'pol_angle_errors'])"
      ]
     },
     "execution_count": 21,
     "metadata": {},
     "output_type": "execute_result"
    }
   ],
   "source": [
    "spectrum_dict.keys()"
   ]
  },
  {
   "cell_type": "markdown",
   "metadata": {},
   "source": [
    "which shows that we have the spectrum, its errors, the number of photons in each spectral bin, the center of each energy bin that was used to construct the spectra, the stokes parameters, the calculated polarization degree and angles in each energy bin and their errors, and the observer viewing angle for this mock observation. The polarization related keys are automatically included since we had set `read_stokes=True` when we read in the MCRaT data."
   ]
  },
  {
   "cell_type": "markdown",
   "metadata": {},
   "source": [
    "In order to access any of this information we simply do `spectrum_dict[X]` where X is any of the previously listed keys. For example, if we want to look at the spectrum and the energies that the spectral intensities correspond to we do"
   ]
  },
  {
   "cell_type": "code",
   "execution_count": 23,
   "metadata": {
    "scrolled": true
   },
   "outputs": [
    {
     "data": {
      "text/latex": [
       "$[0,~0,~0,~\\dots,~1.5829571 \\times 10^{43},~0,~0] \\; \\mathrm{\\frac{erg}{keV\\,s}}$"
      ],
      "text/plain": [
       "<Quantity [0.00000000e+00, 0.00000000e+00, 0.00000000e+00, 0.00000000e+00,\n",
       "           0.00000000e+00, 0.00000000e+00, 0.00000000e+00, 0.00000000e+00,\n",
       "           0.00000000e+00, 0.00000000e+00, 0.00000000e+00, 0.00000000e+00,\n",
       "           0.00000000e+00, 0.00000000e+00, 0.00000000e+00, 0.00000000e+00,\n",
       "           0.00000000e+00, 0.00000000e+00, 0.00000000e+00, 0.00000000e+00,\n",
       "           0.00000000e+00, 0.00000000e+00, 0.00000000e+00, 0.00000000e+00,\n",
       "           0.00000000e+00, 0.00000000e+00, 0.00000000e+00, 0.00000000e+00,\n",
       "           0.00000000e+00, 0.00000000e+00, 0.00000000e+00, 0.00000000e+00,\n",
       "           0.00000000e+00, 0.00000000e+00, 0.00000000e+00, 0.00000000e+00,\n",
       "           0.00000000e+00, 0.00000000e+00, 0.00000000e+00, 0.00000000e+00,\n",
       "           1.17822889e+38, 9.91010433e+39, 3.43779394e+40, 2.19551551e+41,\n",
       "           5.70373354e+41, 9.76434454e+41, 2.13378811e+42, 6.21597438e+42,\n",
       "           4.28195972e+42, 1.28857351e+43, 6.35663084e+42, 1.14929184e+43,\n",
       "           1.36316567e+43, 1.58400949e+43, 1.49438358e+43, 2.06900561e+43,\n",
       "           1.61403356e+43, 2.41165759e+43, 1.89645813e+43, 1.59977526e+43,\n",
       "           1.45224193e+43, 1.50684305e+43, 3.24737951e+43, 9.81217850e+43,\n",
       "           2.38004610e+43, 8.57200384e+43, 9.19977614e+43, 3.66034771e+44,\n",
       "           3.71575714e+44, 1.41569258e+45, 1.68931438e+45, 3.00135598e+45,\n",
       "           9.00879060e+45, 1.76674928e+46, 3.52418795e+46, 3.56000809e+46,\n",
       "           5.85819985e+46, 8.30395790e+46, 1.44530542e+47, 1.49772110e+47,\n",
       "           1.91957455e+47, 2.54712859e+47, 3.09754190e+47, 3.71959606e+47,\n",
       "           4.75026137e+47, 6.37875536e+47, 6.97574824e+47, 7.63331660e+47,\n",
       "           8.47921122e+47, 8.87697039e+47, 9.21070221e+47, 9.25989064e+47,\n",
       "           8.40003473e+47, 7.53973119e+47, 6.36603846e+47, 4.81395082e+47,\n",
       "           3.38660866e+47, 2.22662870e+47, 1.50673708e+47, 9.06988690e+46,\n",
       "           5.91127221e+46, 4.23221573e+46, 2.67354497e+46, 1.93148503e+46,\n",
       "           1.17872567e+46, 6.35104889e+45, 3.65507399e+45, 2.25378051e+45,\n",
       "           1.34278101e+45, 1.30762705e+45, 7.85979683e+44, 3.48575595e+44,\n",
       "           3.19950156e+44, 1.95718184e+44, 3.63101396e+43, 3.22980521e+43,\n",
       "           3.35650135e+43, 1.58295710e+43, 0.00000000e+00, 0.00000000e+00] erg / (keV s)>"
      ]
     },
     "execution_count": 23,
     "metadata": {},
     "output_type": "execute_result"
    }
   ],
   "source": [
    "spectrum_dict['spectrum']"
   ]
  },
  {
   "cell_type": "code",
   "execution_count": 24,
   "metadata": {
    "scrolled": true
   },
   "outputs": [
    {
     "data": {
      "text/latex": [
       "$[1.1220185 \\times 10^{-7},~1.4125375 \\times 10^{-7},~1.7782794 \\times 10^{-7},~\\dots,~56234.133,~70794.578,~89125.094] \\; \\mathrm{keV}$"
      ],
      "text/plain": [
       "<Quantity [1.12201845e-07, 1.41253754e-07, 1.77827941e-07, 2.23872114e-07,\n",
       "           2.81838293e-07, 3.54813389e-07, 4.46683592e-07, 5.62341325e-07,\n",
       "           7.07945784e-07, 8.91250938e-07, 1.12201845e-06, 1.41253754e-06,\n",
       "           1.77827941e-06, 2.23872114e-06, 2.81838293e-06, 3.54813389e-06,\n",
       "           4.46683592e-06, 5.62341325e-06, 7.07945784e-06, 8.91250938e-06,\n",
       "           1.12201845e-05, 1.41253754e-05, 1.77827941e-05, 2.23872114e-05,\n",
       "           2.81838293e-05, 3.54813389e-05, 4.46683592e-05, 5.62341325e-05,\n",
       "           7.07945784e-05, 8.91250938e-05, 1.12201845e-04, 1.41253754e-04,\n",
       "           1.77827941e-04, 2.23872114e-04, 2.81838293e-04, 3.54813389e-04,\n",
       "           4.46683592e-04, 5.62341325e-04, 7.07945784e-04, 8.91250938e-04,\n",
       "           1.12201845e-03, 1.41253754e-03, 1.77827941e-03, 2.23872114e-03,\n",
       "           2.81838293e-03, 3.54813389e-03, 4.46683592e-03, 5.62341325e-03,\n",
       "           7.07945784e-03, 8.91250938e-03, 1.12201845e-02, 1.41253754e-02,\n",
       "           1.77827941e-02, 2.23872114e-02, 2.81838293e-02, 3.54813389e-02,\n",
       "           4.46683592e-02, 5.62341325e-02, 7.07945784e-02, 8.91250938e-02,\n",
       "           1.12201845e-01, 1.41253754e-01, 1.77827941e-01, 2.23872114e-01,\n",
       "           2.81838293e-01, 3.54813389e-01, 4.46683592e-01, 5.62341325e-01,\n",
       "           7.07945784e-01, 8.91250938e-01, 1.12201845e+00, 1.41253754e+00,\n",
       "           1.77827941e+00, 2.23872114e+00, 2.81838293e+00, 3.54813389e+00,\n",
       "           4.46683592e+00, 5.62341325e+00, 7.07945784e+00, 8.91250938e+00,\n",
       "           1.12201845e+01, 1.41253754e+01, 1.77827941e+01, 2.23872114e+01,\n",
       "           2.81838293e+01, 3.54813389e+01, 4.46683592e+01, 5.62341325e+01,\n",
       "           7.07945784e+01, 8.91250938e+01, 1.12201845e+02, 1.41253754e+02,\n",
       "           1.77827941e+02, 2.23872114e+02, 2.81838293e+02, 3.54813389e+02,\n",
       "           4.46683592e+02, 5.62341325e+02, 7.07945784e+02, 8.91250938e+02,\n",
       "           1.12201845e+03, 1.41253754e+03, 1.77827941e+03, 2.23872114e+03,\n",
       "           2.81838293e+03, 3.54813389e+03, 4.46683592e+03, 5.62341325e+03,\n",
       "           7.07945784e+03, 8.91250938e+03, 1.12201845e+04, 1.41253754e+04,\n",
       "           1.77827941e+04, 2.23872114e+04, 2.81838293e+04, 3.54813389e+04,\n",
       "           4.46683592e+04, 5.62341325e+04, 7.07945784e+04, 8.91250938e+04] keV>"
      ]
     },
     "execution_count": 24,
     "metadata": {},
     "output_type": "execute_result"
    }
   ],
   "source": [
    "spectrum_dict['energy_bin_center']"
   ]
  },
  {
   "cell_type": "markdown",
   "metadata": {},
   "source": [
    "We can immediately see that each of these quantities have units associated with them. The units were implicitly passed to the spectrum function when we called it. To see the defaults of th spectrum method, we can run"
   ]
  },
  {
   "cell_type": "code",
   "execution_count": 25,
   "metadata": {
    "scrolled": true
   },
   "outputs": [],
   "source": [
    "observation.spectrum?"
   ]
  },
  {
   "cell_type": "markdown",
   "metadata": {},
   "source": [
    "From the docstring that pop ups, we saw that the default units of `spectrum_unit` was erg/s/keV, the energy range over which the spectrum was calculated was from [$10^{-7}$, $10^{5}$] with lograithmic step sizes of $0.1$. The default energy units are in keV, which is the normalization for the calculated spectrum. These defaults can be changed by passing in the values that we want. If we wanted the spectrum to be calculated from [$10^{2}$, $10^{8}$] eV with units of counts/s/eV then we set `spectrum_unit=unit.count/unit.s/unit.eV`, `log_energy_range=[2, 8]`, and `energy_unit=unit.eV`. This would look like:"
   ]
  },
  {
   "cell_type": "code",
   "execution_count": 27,
   "metadata": {
    "scrolled": true
   },
   "outputs": [
    {
     "name": "stdout",
     "output_type": "stream",
     "text": [
      "[8.16839675e+49 6.66499920e+49 1.10588531e+50 2.98814821e+50\n",
      " 5.19895879e+49 1.55375944e+50 1.28119756e+50 4.16988062e+50\n",
      " 3.18443318e+50 9.99782387e+50 9.18733123e+50 1.32534586e+51\n",
      " 3.07912512e+51 5.01825368e+51 7.57730005e+51 6.24319146e+51\n",
      " 8.09064495e+51 9.14677899e+51 1.28162830e+52 1.04730973e+52\n",
      " 1.06038295e+52 1.12076214e+52 1.08074270e+52 1.03032663e+52\n",
      " 1.04691193e+52 1.11913352e+52 9.68918762e+51 8.41355845e+51\n",
      " 7.45050964e+51 6.20296464e+51 5.10983657e+51 4.08418133e+51\n",
      " 2.94378854e+51 2.10446969e+51 1.41316825e+51 8.50736483e+50\n",
      " 4.75384091e+50 2.48670239e+50 1.34067593e+50 6.39102053e+49\n",
      " 3.31256265e+49 1.86968575e+49 9.45528143e+48 5.42084507e+48\n",
      " 2.63690364e+48 1.12484082e+48 5.16231681e+47 2.52951898e+47\n",
      " 1.20511077e+47 9.28059451e+46 4.34490182e+46 1.55694072e+46\n",
      " 1.13923016e+46 5.51659221e+45 8.45644861e+44 6.10654172e+44\n",
      " 4.85059851e+44 1.92648367e+44 0.00000000e+00 0.00000000e+00] ct / (eV s) [1.12201845e+02 1.41253754e+02 1.77827941e+02 2.23872114e+02\n",
      " 2.81838293e+02 3.54813389e+02 4.46683592e+02 5.62341325e+02\n",
      " 7.07945784e+02 8.91250938e+02 1.12201845e+03 1.41253754e+03\n",
      " 1.77827941e+03 2.23872114e+03 2.81838293e+03 3.54813389e+03\n",
      " 4.46683592e+03 5.62341325e+03 7.07945784e+03 8.91250938e+03\n",
      " 1.12201845e+04 1.41253754e+04 1.77827941e+04 2.23872114e+04\n",
      " 2.81838293e+04 3.54813389e+04 4.46683592e+04 5.62341325e+04\n",
      " 7.07945784e+04 8.91250938e+04 1.12201845e+05 1.41253754e+05\n",
      " 1.77827941e+05 2.23872114e+05 2.81838293e+05 3.54813389e+05\n",
      " 4.46683592e+05 5.62341325e+05 7.07945784e+05 8.91250938e+05\n",
      " 1.12201845e+06 1.41253754e+06 1.77827941e+06 2.23872114e+06\n",
      " 2.81838293e+06 3.54813389e+06 4.46683592e+06 5.62341325e+06\n",
      " 7.07945784e+06 8.91250938e+06 1.12201845e+07 1.41253754e+07\n",
      " 1.77827941e+07 2.23872114e+07 2.81838293e+07 3.54813389e+07\n",
      " 4.46683592e+07 5.62341325e+07 7.07945784e+07 8.91250938e+07] eV\n"
     ]
    }
   ],
   "source": [
    "spect_count_dict=observation.spectrum(0, 45, spectrum_unit=unit.count/unit.s/unit.eV, energy_unit=unit.eV,\\\n",
    "                                      log_energy_range=[2, 8])\n",
    "print(spect_count_dict['spectrum'], spect_count_dict['energy_bin_center'])"
   ]
  },
  {
   "cell_type": "markdown",
   "metadata": {},
   "source": [
    "The times that are passed into the spectrum method can correspond to any times within the active period of the mock observed GRB which allows us to also create mock observed time resolved spectra. \n",
    "\n",
    "\n",
    "One of the most important things that is done with time resolved and time integrated spectra is fitting them with models (the code is only able to fit spectra with the Band and Comptonized functions at this time). **In order to do this, we have to give some information related to the fitting of the spectra. One this is done, we call the spectrum method where the units of the spectra need to be in counts/s/energy_unit. We also need to let the spectrum function that we want to do the spectral fitting.** To get a spectrum and its fitted Band or Comptonized function parameters we do:"
   ]
  },
  {
   "cell_type": "code",
   "execution_count": 29,
   "metadata": {
    "scrolled": true
   },
   "outputs": [],
   "source": [
    "observation.set_spectral_fit_parameters()"
   ]
  },
  {
   "cell_type": "markdown",
   "metadata": {},
   "source": [
    "By running the code below, we can see that we just initalized the spectral energy range that we want the spectral fitting to occur over to be from 8 to 40000 keV. We also specified that we want to fit any energy bins that have greater than 10 photons in them, as that will allow us to assume that the errors in those bins are gaussian for the fitting technique used here. If you would like to change any of these parameters simply set each keyword to the values that you want when calling the `set_spectral_fit_parameters` method. For example, if we wanted to fit spectra from 8-300 eV, with either the Band or Comptonized functions, for energy bins with at least 20 photons in them we would do `observation.set_spectral_fit_parameters(spectral_fit_energy_range=[8,300], spectral_fit_energy_unit=unit.eV, approx_gaussian_error_num=20)`"
   ]
  },
  {
   "cell_type": "code",
   "execution_count": 32,
   "metadata": {
    "scrolled": true
   },
   "outputs": [],
   "source": [
    "observation.set_spectral_fit_parameters?"
   ]
  },
  {
   "cell_type": "code",
   "execution_count": 33,
   "metadata": {
    "scrolled": true
   },
   "outputs": [
    {
     "name": "stderr",
     "output_type": "stream",
     "text": [
      "/opt/anaconda3/lib/python3.7/site-packages/processmcrat/mockobservations.py:620: RuntimeWarning: invalid value encountered in sqrt\n",
      "  sigma_Q_r = np.sqrt(var_factor * (mu_factor / mu - Q_r ** 2))\n",
      "/opt/anaconda3/lib/python3.7/site-packages/processmcrat/mockobservations.py:639: RuntimeWarning: invalid value encountered in sqrt\n",
      "  partial_pr_Ur * sigma_U_r) ** 2 + 2 * partial_pr_Qr * partial_pr_Ur * cov)\n",
      "/opt/anaconda3/lib/python3.7/site-packages/processmcrat/mockobservations.py:641: RuntimeWarning: invalid value encountered in sqrt\n",
      "  partial_phir_Ur * sigma_U_r) ** 2 + 2 * partial_phir_Qr * partial_phir_Ur * cov)\n",
      "/opt/anaconda3/lib/python3.7/site-packages/processmcrat/mclib.py:41: RuntimeWarning: invalid value encountered in double_scalars\n",
      "  model[kk]=((alpha-beta)*break_energy)**(alpha-beta)*energies[kk]**(beta)*np.exp(beta-alpha)\n"
     ]
    }
   ],
   "source": [
    "spectrum_dict=observation.spectrum(0, 45, spectrum_unit=unit.count/unit.s/unit.keV, fit_spectrum=True, sample_num=1e4)"
   ]
  },
  {
   "cell_type": "code",
   "execution_count": 34,
   "metadata": {
    "scrolled": true
   },
   "outputs": [
    {
     "data": {
      "text/plain": [
       "dict_keys(['spectrum', 'spectrum_errors', 'ph_num', 'num_scatt', 'energy_bin_center', 'theta_observer', 'pol_deg', 'stokes_i', 'stokes_q', 'stokes_u', 'stokes_v', 'pol_angle', 'pol_deg_errors', 'pol_angle_errors', 'fit', 'fit_errors', 'model_use'])"
      ]
     },
     "execution_count": 34,
     "metadata": {},
     "output_type": "execute_result"
    }
   ],
   "source": [
    "spectrum_dict.keys()"
   ]
  },
  {
   "cell_type": "markdown",
   "metadata": {},
   "source": [
    "We can now see that there are new keys for the spectral fit, the errors in the spectral fitted parameters, and the type of model that provides the superior fit (either 'b' for Band or 'c' for Comptonized function, as of now). As is shown below, the value for the 'fit' key gives another dictionary with the fitted $\\alpha$, $\\beta$ (if applicable), break energy, and normalizations. The value for the 'fit_errors' key gives another dictionary with the fitted $\\alpha$, $\\beta$ (if applicable), and break energy $1\\sigma$ errors that have been acquired by bootstrapping a number of times corresponding to the `sample_num` keyword that was passed to the spectrum method."
   ]
  },
  {
   "cell_type": "code",
   "execution_count": 41,
   "metadata": {
    "scrolled": true
   },
   "outputs": [
    {
     "name": "stdout",
     "output_type": "stream",
     "text": [
      "{'alpha': -0.011663412596284919, 'beta': -2.820302047290041, 'break_energy': <Quantity 131.70964468 keV>, 'normalization': 1.5901140369751522e+57} {'alpha_errors': 0.004104947209720429, 'beta_errors': 0.006513225094375061, 'break_energy_errors': <Quantity 0.78650231 keV>}\n",
      "The best fit spectrum is a b The best fit $\\alpha$ is  -0.011663412596284919 with an error of 0.004104947209720429\n"
     ]
    }
   ],
   "source": [
    "print(spectrum_dict['fit'], spectrum_dict['fit_errors'])\n",
    "print(r'The best fit spectrum is a', spectrum_dict['model_use'], r'The best fit $\\alpha$ is ',\\\n",
    "      spectrum_dict['fit']['alpha'], 'with an error of', spectrum_dict['fit_errors']['alpha_errors'])"
   ]
  },
  {
   "cell_type": "markdown",
   "metadata": {},
   "source": [
    "In order to calculate the spectral peak energy, we can use the included `calc_epk_error` function. For example:"
   ]
  },
  {
   "cell_type": "code",
   "execution_count": 55,
   "metadata": {
    "scrolled": true
   },
   "outputs": [
    {
     "name": "stdout",
     "output_type": "stream",
     "text": [
      "261.8831054281589 keV 1.654654906211803 keV\n"
     ]
    }
   ],
   "source": [
    "peak_e, peak_e_err = pm.calc_epk_error(spectrum_dict['fit']['alpha'], spectrum_dict['fit']['break_energy'],\\\n",
    "                                        alpha_error=spectrum_dict['fit_errors']['alpha_errors'],\\\n",
    "                                        break_energy_error=spectrum_dict['fit_errors']['break_energy_errors'])\n",
    "print(peak_e, peak_e_err)"
   ]
  },
  {
   "cell_type": "markdown",
   "metadata": {},
   "source": [
    "The last keyword that can be passed to the spectrum method that has not been discussed as of yet is the `photon_type`. As a default is set to `None` which means that all types of photons are included in the construction of the spectrum, both 'i' and 's' types ([see Section 3.3 of the MCRaT documentation](https://github.com/lazzati-astro/MCRaT/blob/master/Doc/mcrat_doc.pdf)) for injected photons and cyclo-synchrotron photons. If the user wants to analyze either of these populations of photons they can set `photon_type='i'` or `photon_type='s'`.\n",
    "\n",
    "If you want to use different parameters for calculating spectra later on in your analysis, you can simply recall the observation.set_spectral_fit_parameters with new values for spectral_fit_energy_range, spectral_fit_energy_unit, and/or approx_gaussian_error_num.\n",
    "\n",
    "We have also included conenience functions to calculate the Band and Comptonized functions for a given set of parameters, thus the results of the spectral fits can be sent to these functions with energy ranges and you will be able to reconstruct the best fit spectrum. More information can be found by doing:"
   ]
  },
  {
   "cell_type": "code",
   "execution_count": 68,
   "metadata": {
    "scrolled": true
   },
   "outputs": [],
   "source": [
    "pm.band_function?"
   ]
  },
  {
   "cell_type": "code",
   "execution_count": null,
   "metadata": {
    "scrolled": true
   },
   "outputs": [],
   "source": [
    "pm.comptonized_function?"
   ]
  },
  {
   "cell_type": "markdown",
   "metadata": {},
   "source": [
    "#### Calculating Polarization\n",
    "\n",
    "In order to calculate the time integrated polarization, we can simply do:"
   ]
  },
  {
   "cell_type": "code",
   "execution_count": 42,
   "metadata": {
    "scrolled": true
   },
   "outputs": [],
   "source": [
    "time_int_pol=observation.polarization(0,45)"
   ]
  },
  {
   "cell_type": "markdown",
   "metadata": {},
   "source": [
    "This gives us another dictionary with a subset of the keys that the spectrum method provided. As is shown below, we get the stokes parameters, the polarization degree and angles, as well as the $1\\sigma$ errors of those mock observations."
   ]
  },
  {
   "cell_type": "code",
   "execution_count": 43,
   "metadata": {
    "scrolled": true
   },
   "outputs": [
    {
     "data": {
      "text/plain": [
       "dict_keys(['stokes_i', 'stokes_q', 'stokes_u', 'stokes_v', 'pol_deg', 'pol_angle', 'pol_deg_errors', 'pol_angle_errors', 'theta_observer'])"
      ]
     },
     "execution_count": 43,
     "metadata": {},
     "output_type": "execute_result"
    }
   ],
   "source": [
    "time_int_pol.keys()"
   ]
  },
  {
   "cell_type": "markdown",
   "metadata": {},
   "source": [
    "Time resolved polarizations can be calculated simply by changing the time bins that the photons are collected within. If we want to calculate the polarization for a given type of photon in the simulation, we can also pass the `photon_type` keyword into our method call, the same as what we would do for calculating a spectrum.\n",
    "\n",
    "Similar to the way that we can specify an energy range to calculate the spectra within, we can also specify an energy range over which the polarization is calculated. This is done by setting the `energy_range` and `energy_unit` parameters when calling the `polarization` method. For example, if we wanted to calculated the time integrated polarization in the optical enegies from 1.5-7.7 eV then we would do:"
   ]
  },
  {
   "cell_type": "code",
   "execution_count": 44,
   "metadata": {
    "scrolled": true
   },
   "outputs": [
    {
     "data": {
      "text/plain": [
       "{'stokes_i': <Quantity 1.>,\n",
       " 'stokes_q': <Quantity -0.25713576>,\n",
       " 'stokes_u': <Quantity -0.01705302>,\n",
       " 'stokes_v': <Quantity 0.>,\n",
       " 'pol_deg': <Quantity 0.25770061>,\n",
       " 'pol_angle': <Quantity -88.10287526 deg>,\n",
       " 'pol_deg_errors': <Quantity 0.17614188>,\n",
       " 'pol_angle_errors': <Quantity 21.0030049 deg>,\n",
       " 'theta_observer': <Quantity 1. deg>}"
      ]
     },
     "execution_count": 44,
     "metadata": {},
     "output_type": "execute_result"
    }
   ],
   "source": [
    "observation.polarization(0,45, energy_range=[1.5,7.7], energy_unit=unit.eV)"
   ]
  },
  {
   "cell_type": "markdown",
   "metadata": {},
   "source": [
    "#### Calculating Light Curves\n",
    "\n",
    "Calculating light curves is just as easy as calculating spectra and polarization. To get the light curve that an observer located at $\\theta_\\mathrm{v}=1^\\circ$ would detect from our *40sp_down* simulated GRB, from 10 s after the jet was launched to 40 s after the jet was launched in uniform time bins, we would do:"
   ]
  },
  {
   "cell_type": "code",
   "execution_count": 47,
   "metadata": {
    "scrolled": true
   },
   "outputs": [
    {
     "name": "stderr",
     "output_type": "stream",
     "text": [
      "/opt/anaconda3/lib/python3.7/site-packages/processmcrat/mockobservations.py:639: RuntimeWarning: invalid value encountered in sqrt\n",
      "  partial_pr_Ur * sigma_U_r) ** 2 + 2 * partial_pr_Qr * partial_pr_Ur * cov)\n"
     ]
    },
    {
     "data": {
      "text/plain": [
       "dict_keys(['lightcurve', 'lightcurve_errors', 'ph_num', 'num_scatt', 'times', 'theta_observer', 'pol_deg', 'stokes_i', 'stokes_q', 'stokes_u', 'stokes_v', 'pol_angle', 'pol_deg_errors', 'pol_angle_errors'])"
      ]
     },
     "execution_count": 47,
     "metadata": {},
     "output_type": "execute_result"
    }
   ],
   "source": [
    "lightcurve_dict=observation.lightcurve(time_start=10, time_end=40, dt=0.2)\n",
    "lightcurve_dict.keys()"
   ]
  },
  {
   "cell_type": "markdown",
   "metadata": {},
   "source": [
    "Looking at the various keys in the dictionary we can see that we get similar keys as from the previous dictionaries. The difference here is that the output quantities are functions of time. The times that we get define the time bins that photons are collected within to produce the lightcurves, polarization, and other quantities. \n",
    "\n",
    "If we wanted to produce the light curve using variable time bins, we can set `variable_t_bins=True` such as:"
   ]
  },
  {
   "cell_type": "code",
   "execution_count": 48,
   "metadata": {
    "scrolled": true
   },
   "outputs": [
    {
     "name": "stderr",
     "output_type": "stream",
     "text": [
      "/opt/anaconda3/lib/python3.7/site-packages/processmcrat/mockobservations.py:639: RuntimeWarning: invalid value encountered in sqrt\n",
      "  partial_pr_Ur * sigma_U_r) ** 2 + 2 * partial_pr_Qr * partial_pr_Ur * cov)\n",
      "/opt/anaconda3/lib/python3.7/site-packages/processmcrat/mockobservations.py:641: RuntimeWarning: invalid value encountered in sqrt\n",
      "  partial_phir_Ur * sigma_U_r) ** 2 + 2 * partial_phir_Qr * partial_phir_Ur * cov)\n"
     ]
    }
   ],
   "source": [
    "lightcurve_dict=observation.lightcurve(time_start=10, time_end=40, dt=0.2, variable_t_bins=True)"
   ]
  },
  {
   "cell_type": "markdown",
   "metadata": {},
   "source": [
    "Alteratively, if you have an array that defines the time bins that you would like the light curve and other quantities to be calculated from, you can pass that information instead as:"
   ]
  },
  {
   "cell_type": "code",
   "execution_count": 53,
   "metadata": {
    "scrolled": true
   },
   "outputs": [
    {
     "name": "stdout",
     "output_type": "stream",
     "text": [
      "[10. 12. 14. 16. 18. 20. 22. 24. 26. 28. 30. 32. 34. 36. 38.] s\n",
      "[2.58500125e+50 1.21760483e+51 7.49266623e+51 1.63348443e+52\n",
      " 2.62399980e+52 2.00367341e+52 4.37300696e+51 3.50573198e+50\n",
      " 4.69518325e+51 1.71027976e+52 3.34085955e+51 1.81023401e+51\n",
      " 7.53685977e+51 8.58960867e+51 0.00000000e+00] erg / s\n"
     ]
    }
   ],
   "source": [
    "t=np.arange(10, 40, 2)\n",
    "lightcurve_dict=observation.lightcurve(time_array=t)\n",
    "print(lightcurve_dict['times'])\n",
    "print(lightcurve_dict['lightcurve'])"
   ]
  },
  {
   "cell_type": "markdown",
   "metadata": {},
   "source": [
    "We can see that the times have been used to calculate the lightcurve. The default calculation of the lightcurve produces values that have units of erg/s however the light curve can also be set to counts/s by setting `lc_unit=unit.count/unit.s`. These light curves were calculated without any energy cuts making them bolometric light curves however, we can also calculate the light curve for a specific energy range of photons. For example if we wanted to calculate the light curve from 10-1000 eV we would do something like:"
   ]
  },
  {
   "cell_type": "code",
   "execution_count": 56,
   "metadata": {
    "scrolled": true
   },
   "outputs": [
    {
     "name": "stderr",
     "output_type": "stream",
     "text": [
      "/opt/anaconda3/lib/python3.7/site-packages/processmcrat/mockobservations.py:639: RuntimeWarning: invalid value encountered in sqrt\n",
      "  partial_pr_Ur * sigma_U_r) ** 2 + 2 * partial_pr_Qr * partial_pr_Ur * cov)\n",
      "/opt/anaconda3/lib/python3.7/site-packages/processmcrat/mockobservations.py:641: RuntimeWarning: invalid value encountered in sqrt\n",
      "  partial_phir_Ur * sigma_U_r) ** 2 + 2 * partial_phir_Qr * partial_phir_Ur * cov)\n",
      "/opt/anaconda3/lib/python3.7/site-packages/processmcrat/mockobservations.py:621: RuntimeWarning: invalid value encountered in sqrt\n",
      "  sigma_U_r = np.sqrt(var_factor * (mu_factor / mu - U_r ** 2))\n",
      "/opt/anaconda3/lib/python3.7/site-packages/processmcrat/mockobservations.py:620: RuntimeWarning: invalid value encountered in sqrt\n",
      "  sigma_Q_r = np.sqrt(var_factor * (mu_factor / mu - Q_r ** 2))\n"
     ]
    }
   ],
   "source": [
    "lightcurve_dict=observation.lightcurve(time_start=10, time_end=40, dt=0.2, energy_range=[10, 1000],\\\n",
    "                                       energy_unit=unit.eV)"
   ]
  },
  {
   "cell_type": "markdown",
   "metadata": {},
   "source": [
    "For each time bin we can also calculate the time resolved spectrum and fit the spectra from each time bin. In order to do this, we set `fit_spectrum=True`. This can take a little while to calculate based on the `spectral_sample_num` value. This is identical to the `sample_num` keyword that gets passed to the `spectrum` method. To minimize the wait time in this notebook, we have decreased the number of time bins that will have spectra that need to be fitted."
   ]
  },
  {
   "cell_type": "code",
   "execution_count": 57,
   "metadata": {
    "scrolled": true
   },
   "outputs": [
    {
     "name": "stdout",
     "output_type": "stream",
     "text": [
      "Fitting between times: 10 11\n"
     ]
    },
    {
     "name": "stderr",
     "output_type": "stream",
     "text": [
      "/opt/anaconda3/lib/python3.7/site-packages/processmcrat/mockobservations.py:639: RuntimeWarning: invalid value encountered in sqrt\n",
      "  partial_pr_Ur * sigma_U_r) ** 2 + 2 * partial_pr_Qr * partial_pr_Ur * cov)\n",
      "/opt/anaconda3/lib/python3.7/site-packages/processmcrat/mockobservations.py:641: RuntimeWarning: invalid value encountered in sqrt\n",
      "  partial_phir_Ur * sigma_U_r) ** 2 + 2 * partial_phir_Qr * partial_phir_Ur * cov)\n",
      "/opt/anaconda3/lib/python3.7/site-packages/processmcrat/mockobservations.py:620: RuntimeWarning: invalid value encountered in sqrt\n",
      "  sigma_Q_r = np.sqrt(var_factor * (mu_factor / mu - Q_r ** 2))\n",
      "/opt/anaconda3/lib/python3.7/site-packages/processmcrat/mockobservations.py:621: RuntimeWarning: invalid value encountered in sqrt\n",
      "  sigma_U_r = np.sqrt(var_factor * (mu_factor / mu - U_r ** 2))\n"
     ]
    },
    {
     "name": "stdout",
     "output_type": "stream",
     "text": [
      "Fitting between times: 11 12\n"
     ]
    },
    {
     "name": "stderr",
     "output_type": "stream",
     "text": [
      "/opt/anaconda3/lib/python3.7/site-packages/processmcrat/mclib.py:41: RuntimeWarning: invalid value encountered in double_scalars\n",
      "  model[kk]=((alpha-beta)*break_energy)**(alpha-beta)*energies[kk]**(beta)*np.exp(beta-alpha)\n",
      "/Users/Tylerparsotan/.local/lib/python3.7/site-packages/scipy/optimize/minpack.py:829: OptimizeWarning: Covariance of the parameters could not be estimated\n",
      "  category=OptimizeWarning)\n",
      "/opt/anaconda3/lib/python3.7/site-packages/processmcrat/mclib.py:86: RuntimeWarning: overflow encountered in power\n",
      "  model=(energies**alpha)*np.exp(-energies/break_energy)\n",
      "/opt/anaconda3/lib/python3.7/site-packages/processmcrat/mclib.py:87: RuntimeWarning: invalid value encountered in true_divide\n",
      "  model=model/np.trapz(model,x=energies)*normalization\n"
     ]
    },
    {
     "name": "stdout",
     "output_type": "stream",
     "text": [
      "Fitting between times: 12 13\n",
      "Fitting between times: 13 14\n",
      "Fitting between times: 14 15\n",
      "Fitting between times: 15 16\n",
      "Fitting between times: 16 17\n",
      "Fitting between times: 17 18\n",
      "Fitting between times: 18 19\n",
      "Fitting between times: 19 20\n",
      "Fitting between times: 20 21\n",
      "Fitting between times: 21 22\n",
      "Fitting between times: 22 23\n",
      "Fitting between times: 23 24\n",
      "Fitting between times: 24 25\n",
      "Fitting between times: 25 26\n",
      "Fitting between times: 26 27\n",
      "Fitting between times: 27 28\n",
      "Fitting between times: 28 29\n",
      "Fitting between times: 29 30\n",
      "Fitting between times: 30 31\n",
      "Fitting between times: 31 32\n",
      "Fitting between times: 32 33\n",
      "Fitting between times: 33 34\n",
      "Fitting between times: 34 35\n",
      "Fitting between times: 35 36\n",
      "Fitting between times: 36 37\n",
      "Fitting between times: 37 38\n",
      "Fitting between times: 38 39\n"
     ]
    }
   ],
   "source": [
    "lightcurve_dict=observation.lightcurve(time_start=10, time_end=40, dt=1, fit_spectrum=True)"
   ]
  },
  {
   "cell_type": "code",
   "execution_count": 58,
   "metadata": {
    "scrolled": true
   },
   "outputs": [
    {
     "data": {
      "text/plain": [
       "dict_keys(['lightcurve', 'lightcurve_errors', 'ph_num', 'num_scatt', 'times', 'theta_observer', 'pol_deg', 'stokes_i', 'stokes_q', 'stokes_u', 'stokes_v', 'pol_angle', 'pol_deg_errors', 'pol_angle_errors', 'fit', 'fit_errors', 'model_use'])"
      ]
     },
     "execution_count": 58,
     "metadata": {},
     "output_type": "execute_result"
    }
   ],
   "source": [
    "lightcurve_dict.keys()"
   ]
  },
  {
   "cell_type": "markdown",
   "metadata": {},
   "source": [
    "We can now see that there are new keys in the returned dictionary related to the spectral fittings. We can access the fitted alphas by doing:"
   ]
  },
  {
   "cell_type": "code",
   "execution_count": 60,
   "metadata": {
    "scrolled": true
   },
   "outputs": [
    {
     "data": {
      "text/plain": [
       "array([            nan,             nan,  1.96436731e+00,  1.05351393e+00,\n",
       "        2.13555153e-02,  7.40774498e-01,  1.69985252e-01,  3.51816904e-01,\n",
       "        3.45933991e-01,  4.96825873e-01,  3.34332990e-01,  9.00424439e-01,\n",
       "       -2.25999481e-01, -1.18651430e-03, -3.73186133e-02,  6.68327809e-01,\n",
       "        1.64518785e+00,  8.74747720e-02,  5.81461438e-01,  5.58506902e-01,\n",
       "        5.87267563e-01,  9.70184684e-01, -3.04516724e-01,  6.47989946e-01,\n",
       "        3.17196374e-01,  7.27955431e-01,  6.96803379e-01,  3.86126574e-01,\n",
       "        7.13077558e-01,             nan])"
      ]
     },
     "execution_count": 60,
     "metadata": {},
     "output_type": "execute_result"
    }
   ],
   "source": [
    "lightcurve_dict['fit']['alpha']"
   ]
  },
  {
   "cell_type": "markdown",
   "metadata": {},
   "source": [
    "With producing these mock observables, it becomes tedious to constantly enter a certain spectral energy range that you would like the spectra to be calculated within, or light curve energy range, or detected polarization energy range to simulate what energy ranges a given instrument would make its measurements in. In order to simplify this, the ProcessMCRaT code allows you to create an instrument with these parameters defined. Then, we can load this instrument into each of our observation objects which will automatically apply the instrumental energy constraints for each mock observable that is produced. \n",
    "\n",
    "Lets create a Polar-2/Fermi mash-up instrument, which would measure polarization from 20-800 keV, spectra from 8 keV-40 MeV, and light curves from 20-800 keV as well:"
   ]
  },
  {
   "cell_type": "code",
   "execution_count": 61,
   "metadata": {
    "scrolled": true
   },
   "outputs": [],
   "source": [
    "inst=pm.Instrument(name='Fermi+Polar', polarization_energy_range=[20,800], polarization_energy_unit=unit.keV,\\\n",
    "                  spectral_energy_range=[8,40000], spectral_energy_unit=unit.keV, lightcurve_energy_range=[20,800],\\\n",
    "                   lightcurve_energy_unit=unit.keV)"
   ]
  },
  {
   "cell_type": "markdown",
   "metadata": {},
   "source": [
    "If any of the fields are not specified and left off of the call to create the instrument, then they will be ignored and the calculations for those mock observables will default to being integrated over energy. For example if we did `pm.Instrument(name='Fermi+Polar', polarization_energy_range=[20,800], polarization_energy_unit=unit.keV, spectral_energy_range=[8,40000], spectral_energy_unit=unit.keV` then the light cuves that we could calculate after loading the instruent into our observation object would be bolometric light curves. If we left off `spectral_energy_range=[8,40000]` and `spectral_energy_unit=unit.keV` then the spectra would be calculted for the default energy ranges in the spectrum method.\n",
    "\n",
    "Now that we have our instrument, we can tell our observation object that we want to use this instrument by loading it with:"
   ]
  },
  {
   "cell_type": "code",
   "execution_count": 65,
   "metadata": {
    "scrolled": true
   },
   "outputs": [],
   "source": [
    "observation.load_instrument(inst)"
   ]
  },
  {
   "cell_type": "markdown",
   "metadata": {},
   "source": [
    "With the instrument loaded we can recalcalculate some of our mock observables. "
   ]
  },
  {
   "cell_type": "code",
   "execution_count": 66,
   "metadata": {
    "scrolled": true
   },
   "outputs": [
    {
     "name": "stderr",
     "output_type": "stream",
     "text": [
      "/opt/anaconda3/lib/python3.7/site-packages/processmcrat/mclib.py:41: RuntimeWarning: invalid value encountered in double_scalars\n",
      "  model[kk]=((alpha-beta)*break_energy)**(alpha-beta)*energies[kk]**(beta)*np.exp(beta-alpha)\n"
     ]
    }
   ],
   "source": [
    "inst_spec_dict=observation.spectrum(0, 45, spectrum_unit=unit.count/unit.s/unit.keV, fit_spectrum=True, sample_num=1e4)"
   ]
  },
  {
   "cell_type": "markdown",
   "metadata": {},
   "source": [
    "The above call calculates our time integrated light curve from 8 keV-40 MeV and it fits our spectrum from 8 keV-40 MeV due to the fact that we specified this energy range to conduct our spectral fitting within when we ran `observation.set_spectral_fit_parameters()`.\n",
    "\n",
    "After calculating the light curves, polarization, and spectra using the instrument, you can unload i from the observation by doing:"
   ]
  },
  {
   "cell_type": "code",
   "execution_count": 64,
   "metadata": {
    "scrolled": true
   },
   "outputs": [],
   "source": [
    "observation.unload_instrument()"
   ]
  },
  {
   "cell_type": "markdown",
   "metadata": {},
   "source": [
    "If, while having the instrument loaded, you want to explore what a given mock obervable would look like in a different energy range, you can specify that in the method call and it will override the instrumental energy constraints."
   ]
  },
  {
   "cell_type": "markdown",
   "metadata": {},
   "source": [
    "### 6. Plotting Mock Observables\n",
    "\n",
    "Now that we have explored some of the mock observables that can be created with a given MockObservable object, we can plot some of the results"
   ]
  },
  {
   "cell_type": "code",
   "execution_count": null,
   "metadata": {
    "scrolled": true
   },
   "outputs": [],
   "source": []
  }
 ],
 "metadata": {
  "kernelspec": {
   "display_name": "Python 3",
   "language": "python",
   "name": "python3"
  },
  "language_info": {
   "codemirror_mode": {
    "name": "ipython",
    "version": 3
   },
   "file_extension": ".py",
   "mimetype": "text/x-python",
   "name": "python",
   "nbconvert_exporter": "python",
   "pygments_lexer": "ipython3",
   "version": "3.7.4"
  }
 },
 "nbformat": 4,
 "nbformat_minor": 2
}
